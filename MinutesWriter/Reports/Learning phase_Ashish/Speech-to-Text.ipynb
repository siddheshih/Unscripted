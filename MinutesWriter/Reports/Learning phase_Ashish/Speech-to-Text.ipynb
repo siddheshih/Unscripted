{
 "cells": [
  {
   "cell_type": "code",
   "execution_count": 1,
   "metadata": {},
   "outputs": [
    {
     "name": "stdout",
     "output_type": "stream",
     "text": [
      "Requirement already satisfied: ibm_watson in c:\\users\\ashis\\anaconda3\\lib\\site-packages (5.1.0)\n",
      "Requirement already satisfied: websocket-client==0.48.0 in c:\\users\\ashis\\anaconda3\\lib\\site-packages (from ibm_watson) (0.48.0)\n",
      "Requirement already satisfied: requests<3.0,>=2.0 in c:\\users\\ashis\\anaconda3\\lib\\site-packages (from ibm_watson) (2.24.0)\n",
      "Requirement already satisfied: ibm-cloud-sdk-core>=3.3.6 in c:\\users\\ashis\\anaconda3\\lib\\site-packages (from ibm_watson) (3.10.0)\n",
      "Requirement already satisfied: python-dateutil>=2.5.3 in c:\\users\\ashis\\anaconda3\\lib\\site-packages (from ibm_watson) (2.8.1)\n",
      "Requirement already satisfied: six in c:\\users\\ashis\\anaconda3\\lib\\site-packages (from websocket-client==0.48.0->ibm_watson) (1.15.0)\n",
      "Requirement already satisfied: urllib3!=1.25.0,!=1.25.1,<1.26,>=1.21.1 in c:\\users\\ashis\\anaconda3\\lib\\site-packages (from requests<3.0,>=2.0->ibm_watson) (1.25.11)\n",
      "Requirement already satisfied: chardet<4,>=3.0.2 in c:\\users\\ashis\\anaconda3\\lib\\site-packages (from requests<3.0,>=2.0->ibm_watson) (3.0.4)\n",
      "Requirement already satisfied: certifi>=2017.4.17 in c:\\users\\ashis\\anaconda3\\lib\\site-packages (from requests<3.0,>=2.0->ibm_watson) (2020.6.20)\n",
      "Requirement already satisfied: idna<3,>=2.5 in c:\\users\\ashis\\anaconda3\\lib\\site-packages (from requests<3.0,>=2.0->ibm_watson) (2.10)\n",
      "Requirement already satisfied: PyJWT<3.0.0,>=2.0.1 in c:\\users\\ashis\\anaconda3\\lib\\site-packages (from ibm-cloud-sdk-core>=3.3.6->ibm_watson) (2.1.0)\n"
     ]
    }
   ],
   "source": [
    "!pip install ibm_watson"
   ]
  },
  {
   "cell_type": "code",
   "execution_count": 11,
   "metadata": {},
   "outputs": [],
   "source": [
    "import json\n",
    "from os.path import join, dirname\n",
    "from ibm_watson import SpeechToTextV1\n",
    "from ibm_watson.websocket import RecognizeCallback, AudioSource\n",
    "from ibm_cloud_sdk_core.authenticators import IAMAuthenticator"
   ]
  },
  {
   "cell_type": "code",
   "execution_count": 13,
   "metadata": {},
   "outputs": [],
   "source": [
    "authenticator = IAMAuthenticator('QMS0quIPO2Dp_YHKBYlTZYHHkOLGRx5QzJn6fg9-2iRJ') \n",
    "service = SpeechToTextV1(authenticator = authenticator)\n",
    "service.set_service_url('https://api.eu-gb.speech-to-text.watson.cloud.ibm.com/instances/8fbf5b1b-3804-4217-aa1c-7ab04c5ad491')"
   ]
  },
  {
   "cell_type": "code",
   "execution_count": 16,
   "metadata": {},
   "outputs": [],
   "source": [
    "with open(join('Welcome.mp3'), \n",
    "          'rb') as audio_file:\n",
    "      \n",
    "        dic = json.loads(\n",
    "                json.dumps(\n",
    "                    service.recognize(\n",
    "                        audio=audio_file,\n",
    "                        content_type='audio/mp3',   \n",
    "                        model='en-US_NarrowbandModel',\n",
    "                    continuous=True).get_result(), indent=2))"
   ]
  },
  {
   "cell_type": "code",
   "execution_count": 17,
   "metadata": {},
   "outputs": [
    {
     "name": "stdout",
     "output_type": "stream",
     "text": [
      "thank you for choosing the Olympus dictation management system the Olympus dictation management system gives you the power to manage your dictation transcriptions and documents seamlessly and to improve the productivity of your daily work for example you can automatically sends the dictation files %HESITATION transcribe documents your system does the %HESITATION side by email or FTP if you're using the speech recognition software the speech recognition engine works in the background to support your document creation we hope you enjoy the simple flexible reliable and secure solutions from Olympus \n"
     ]
    }
   ],
   "source": [
    "str = \"\"\n",
    "while bool(dic.get('results')):\n",
    "    str = dic.get('results').pop().get('alternatives').pop().get('transcript')+str[:]\n",
    "       \n",
    "print(str)"
   ]
  },
  {
   "cell_type": "code",
   "execution_count": 18,
   "metadata": {},
   "outputs": [],
   "source": [
    "def calculate_wer(reference, hypothesis):\n",
    "    \n",
    "    # initialisation\n",
    "    import numpy\n",
    "    d = numpy.zeros((len(reference) + 1) * (len(hypothesis) + 1),\n",
    "                    dtype=numpy.uint8)\n",
    "    d = d.reshape((len(reference) + 1, len(hypothesis) + 1))\n",
    "    for i in range(len(reference) + 1):\n",
    "        for j in range(len(hypothesis) + 1):\n",
    "            if i == 0:\n",
    "                d[0][j] = j\n",
    "            elif j == 0:\n",
    "                d[i][0] = i\n",
    "\n",
    "    # computation\n",
    "    for i in range(1, len(reference) + 1):\n",
    "        for j in range(1, len(hypothesis) + 1):\n",
    "            if reference[i - 1] == hypothesis[j - 1]:\n",
    "                d[i][j] = d[i - 1][j - 1]\n",
    "            else:\n",
    "                substitution = d[i - 1][j - 1] + 1\n",
    "                insertion = d[i][j - 1] + 1\n",
    "                deletion = d[i - 1][j] + 1\n",
    "                d[i][j] = min(substitution, insertion, deletion)\n",
    "\n",
    "    return d[len(reference)][len(hypothesis)] / float(len(reference))"
   ]
  },
  {
   "cell_type": "code",
   "execution_count": 27,
   "metadata": {},
   "outputs": [
    {
     "data": {
      "text/plain": [
       "0.1978021978021978"
      ]
     },
     "execution_count": 27,
     "metadata": {},
     "output_type": "execute_result"
    }
   ],
   "source": [
    "reference = open(\"orignal-text.txt\")\n",
    "reference = reference.read()\n",
    "hypothesis=str\n",
    "calculate_wer(reference.split(),hypothesis.split())"
   ]
  },
  {
   "cell_type": "code",
   "execution_count": null,
   "metadata": {},
   "outputs": [],
   "source": []
  }
 ],
 "metadata": {
  "kernelspec": {
   "display_name": "Python 3",
   "language": "python",
   "name": "python3"
  },
  "language_info": {
   "codemirror_mode": {
    "name": "ipython",
    "version": 3
   },
   "file_extension": ".py",
   "mimetype": "text/x-python",
   "name": "python",
   "nbconvert_exporter": "python",
   "pygments_lexer": "ipython3",
   "version": "3.8.5"
  }
 },
 "nbformat": 4,
 "nbformat_minor": 4
}
