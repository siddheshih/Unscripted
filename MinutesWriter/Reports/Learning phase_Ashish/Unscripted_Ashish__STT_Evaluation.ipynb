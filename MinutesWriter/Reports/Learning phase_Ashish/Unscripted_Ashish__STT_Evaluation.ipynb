{
  "nbformat": 4,
  "nbformat_minor": 0,
  "metadata": {
    "colab": {
      "name": "Unscripted_Ashish_ STT-Evaluation.ipynb",
      "provenance": [],
      "include_colab_link": true
    },
    "kernelspec": {
      "name": "python3",
      "display_name": "Python 3"
    },
    "language_info": {
      "name": "python"
    },
    "accelerator": "GPU"
  },
  "cells": [
    {
      "cell_type": "markdown",
      "metadata": {
        "id": "view-in-github",
        "colab_type": "text"
      },
      "source": [
        "<a href=\"https://colab.research.google.com/github/ashishguptap99/Speech-to-Text---Watson/blob/main/Unscripted_Ashish__STT_Evaluation.ipynb\" target=\"_parent\"><img src=\"https://colab.research.google.com/assets/colab-badge.svg\" alt=\"Open In Colab\"/></a>"
      ]
    },
    {
      "cell_type": "code",
      "metadata": {
        "colab": {
          "base_uri": "https://localhost:8080/"
        },
        "id": "KR2gNywtW4Qm",
        "outputId": "feb090d8-6346-48c9-f507-7bcdb473ad64"
      },
      "source": [
        "#Installations\n",
        "!pip install ibm_watson\n",
        "!pip install pydub rouge"
      ],
      "execution_count": 3,
      "outputs": [
        {
          "output_type": "stream",
          "text": [
            "Collecting ibm_watson\n",
            "\u001b[?25l  Downloading https://files.pythonhosted.org/packages/5c/43/13fa3cc7df4f9eb0e55748087cc6b8042d6e0399ca3f4ecd650c6c2d9f92/ibm-watson-5.2.0.tar.gz (409kB)\n",
            "\u001b[K     |████████████████████████████████| 419kB 27.8MB/s \n",
            "\u001b[?25hRequirement already satisfied: requests<3.0,>=2.0 in /usr/local/lib/python3.7/dist-packages (from ibm_watson) (2.23.0)\n",
            "Requirement already satisfied: python_dateutil>=2.5.3 in /usr/local/lib/python3.7/dist-packages (from ibm_watson) (2.8.1)\n",
            "Collecting websocket-client==0.48.0\n",
            "\u001b[?25l  Downloading https://files.pythonhosted.org/packages/8a/a1/72ef9aa26cfe1a75cee09fc1957e4723add9de098c15719416a1ee89386b/websocket_client-0.48.0-py2.py3-none-any.whl (198kB)\n",
            "\u001b[K     |████████████████████████████████| 204kB 41.5MB/s \n",
            "\u001b[?25hCollecting ibm_cloud_sdk_core==3.*,>=3.3.6\n",
            "  Downloading https://files.pythonhosted.org/packages/99/55/ece4d000ca41c052c7331a0d14150e9c9c15e4f65943036cfff3bcd14cc7/ibm-cloud-sdk-core-3.10.0.tar.gz\n",
            "Requirement already satisfied: certifi>=2017.4.17 in /usr/local/lib/python3.7/dist-packages (from requests<3.0,>=2.0->ibm_watson) (2021.5.30)\n",
            "Requirement already satisfied: idna<3,>=2.5 in /usr/local/lib/python3.7/dist-packages (from requests<3.0,>=2.0->ibm_watson) (2.10)\n",
            "Requirement already satisfied: urllib3!=1.25.0,!=1.25.1,<1.26,>=1.21.1 in /usr/local/lib/python3.7/dist-packages (from requests<3.0,>=2.0->ibm_watson) (1.24.3)\n",
            "Requirement already satisfied: chardet<4,>=3.0.2 in /usr/local/lib/python3.7/dist-packages (from requests<3.0,>=2.0->ibm_watson) (3.0.4)\n",
            "Requirement already satisfied: six>=1.5 in /usr/local/lib/python3.7/dist-packages (from python_dateutil>=2.5.3->ibm_watson) (1.15.0)\n",
            "Collecting PyJWT<3.0.0,>=2.0.1\n",
            "  Downloading https://files.pythonhosted.org/packages/3f/32/d5d3cab27fee7f6b22d7cd7507547ae45d52e26030fa77d1f83d0526c6e5/PyJWT-2.1.0-py3-none-any.whl\n",
            "Building wheels for collected packages: ibm-watson, ibm-cloud-sdk-core\n",
            "  Building wheel for ibm-watson (setup.py) ... \u001b[?25l\u001b[?25hdone\n",
            "  Created wheel for ibm-watson: filename=ibm_watson-5.2.0-cp37-none-any.whl size=403252 sha256=a4bea7a148a4e50910c8358241fcaa453c0620a8375ba2f8292ba201d570420b\n",
            "  Stored in directory: /root/.cache/pip/wheels/53/e1/8c/592f08568441aee6d1c9b61bc7a425b509e0607beb306ebf69\n",
            "  Building wheel for ibm-cloud-sdk-core (setup.py) ... \u001b[?25l\u001b[?25hdone\n",
            "  Created wheel for ibm-cloud-sdk-core: filename=ibm_cloud_sdk_core-3.10.0-cp37-none-any.whl size=60922 sha256=0e246cf712fef18172f2652785cfdaaab56d223f7758635e7c6418f269044ecf\n",
            "  Stored in directory: /root/.cache/pip/wheels/4a/4e/48/b02ad6dc75235fc4c0742d4e99571fe7d729e60bf365105be4\n",
            "Successfully built ibm-watson ibm-cloud-sdk-core\n",
            "Installing collected packages: websocket-client, PyJWT, ibm-cloud-sdk-core, ibm-watson\n",
            "Successfully installed PyJWT-2.1.0 ibm-cloud-sdk-core-3.10.0 ibm-watson-5.2.0 websocket-client-0.48.0\n",
            "Collecting pydub\n",
            "  Downloading https://files.pythonhosted.org/packages/a6/53/d78dc063216e62fc55f6b2eebb447f6a4b0a59f55c8406376f76bf959b08/pydub-0.25.1-py2.py3-none-any.whl\n",
            "Collecting rouge\n",
            "  Downloading https://files.pythonhosted.org/packages/43/cc/e18e33be20971ff73a056ebdb023476b5a545e744e3fc22acd8c758f1e0d/rouge-1.0.0-py3-none-any.whl\n",
            "Requirement already satisfied: six in /usr/local/lib/python3.7/dist-packages (from rouge) (1.15.0)\n",
            "Installing collected packages: pydub, rouge\n",
            "Successfully installed pydub-0.25.1 rouge-1.0.0\n"
          ],
          "name": "stdout"
        }
      ]
    },
    {
      "cell_type": "code",
      "metadata": {
        "id": "QZHGILD4W6Z-"
      },
      "source": [
        "####imports for STT\n",
        "import json\n",
        "from os.path import join#, dirname\n",
        "from ibm_watson import SpeechToTextV1\n",
        "#from ibm_watson.websocket import RecognizeCallback, AudioSource\n",
        "from ibm_cloud_sdk_core.authenticators import IAMAuthenticator\n",
        "\n",
        "####imports for evaluation metrics\n",
        "from rouge import Rouge\n",
        "from nltk.translate.bleu_score import sentence_bleu\n",
        "from nltk.translate.bleu_score import SmoothingFunction"
      ],
      "execution_count": 8,
      "outputs": []
    },
    {
      "cell_type": "code",
      "metadata": {
        "id": "DG5hJ887FR48"
      },
      "source": [
        "authenticator = IAMAuthenticator('QMS0quIPO2Dp_YHKBYlTZYHHkOLGRx5QzJn6fg9-2iRJ') \n",
        "service = SpeechToTextV1(authenticator = authenticator)\n",
        "service.set_service_url('https://api.eu-gb.speech-to-text.watson.cloud.ibm.com/instances/8fbf5b1b-3804-4217-aa1c-7ab04c5ad491')"
      ],
      "execution_count": 9,
      "outputs": []
    },
    {
      "cell_type": "code",
      "metadata": {
        "id": "8D5odad_FX7y"
      },
      "source": [
        "def calculate_wer(reference, hypothesis):\n",
        "    \n",
        "    # initialisation\n",
        "    import numpy\n",
        "    d = numpy.zeros((len(reference) + 1) * (len(hypothesis) + 1),\n",
        "                    dtype=numpy.uint8)\n",
        "    d = d.reshape((len(reference) + 1, len(hypothesis) + 1))\n",
        "    for i in range(len(reference) + 1):\n",
        "        for j in range(len(hypothesis) + 1):\n",
        "            if i == 0:\n",
        "                d[0][j] = j\n",
        "            elif j == 0:\n",
        "                d[i][0] = i\n",
        "\n",
        "    # computation\n",
        "    for i in range(1, len(reference) + 1):\n",
        "        for j in range(1, len(hypothesis) + 1):\n",
        "            if reference[i - 1] == hypothesis[j - 1]:\n",
        "                d[i][j] = d[i - 1][j - 1]\n",
        "            else:\n",
        "                substitution = d[i - 1][j - 1] + 1\n",
        "                insertion = d[i][j - 1] + 1\n",
        "                deletion = d[i - 1][j] + 1\n",
        "                d[i][j] = min(substitution, insertion, deletion)\n",
        "\n",
        "    return d[len(reference)][len(hypothesis)] / float(len(reference))"
      ],
      "execution_count": 10,
      "outputs": []
    },
    {
      "cell_type": "code",
      "metadata": {
        "id": "vyG-XTF9Fc01"
      },
      "source": [
        "def STT(audio,txt):\n",
        "    #Hypothesis\n",
        "    with open(join(audio), 'rb') as audio_file:\n",
        "        dic = json.loads(json.dumps(service.recognize(audio=audio_file,content_type='audio/mp3',model='en-US_NarrowbandModel',continuous=True).get_result(), indent=2))\n",
        "    str = \"\"\n",
        "    while bool(dic.get('results')):\n",
        "        str = dic.get('results').pop().get('alternatives').pop().get('transcript')+str[:]  \n",
        "    hypothesis=str\n",
        "    \n",
        "    #reference\n",
        "    reference = open(txt)\n",
        "    reference = reference.read().replace('\\n', ' ')\n",
        "    print(\"Reference; \",reference)\n",
        "    print(\"Hypothesis: \",hypothesis)\n",
        "    \n",
        "    ##WER##\n",
        "    print(\"WER: \",calculate_wer(reference.split(),hypothesis.split()))\n",
        "    \n",
        "    ##ROUGE##\n",
        "    rouge = Rouge()\n",
        "    print(\"ROUGE: \", rouge.get_scores(hypothesis, reference)[0]['rouge-l']['r'])\n",
        "    \n",
        "    ##BLEU##\n",
        "    smoothie = SmoothingFunction().method4\n",
        "    BLEU = sentence_bleu(reference, hypothesis, weights=(0.25, 0.25, 0.25, 0.25), smoothing_function=smoothie)\n",
        "    print(\"BLEU: \",BLEU)"
      ],
      "execution_count": 11,
      "outputs": []
    },
    {
      "cell_type": "code",
      "metadata": {
        "colab": {
          "base_uri": "https://localhost:8080/"
        },
        "id": "W9Bk-vSYGnTd",
        "outputId": "d4a1015b-c1c0-46dd-c551-b58bfa51a95c"
      },
      "source": [
        "STT(\"/content/drive/MyDrive/STT Sample files/audio1.mp3\",\"/content/drive/MyDrive/STT Sample files/audio1.txt\")"
      ],
      "execution_count": 12,
      "outputs": [
        {
          "output_type": "stream",
          "text": [
            "Reference;  President Bok, former President Rudenstine, incoming President Faust, members of the Harvard Corporation and the Board of Overseers, members of the faculty, parents, and especially, the graduates: I’ve been waiting more than 30 years to say this: “Dad, I always told you I’d come back and get my degree.” I want to thank Harvard for this timely honor. I’ll be changing my job next year … and it will be nice to finally have a college degree on my resume. I applaud the graduates today for taking a much more direct route to your degrees. For my part, I’m just happy that the Crimson has called me “Harvard’s most successful dropout.” I guess that makes me valedictorian of my own special class … I did the best of everyone who failed. But I also want to be recognized as the guy who got Steve Ballmer to drop out of business school. I’m a bad influence. That’s why I was invited to speak at your graduation. If I had spoken at your orientation, fewer of you might be here today. Harvard was just a phenomenal experience for me. Academic life was fascinating. I used to sit in on lots of classes I hadn’t even signed up for. And dorm life was terrific. I lived up at Radcliffe, in Currier House. There were always lots of people in my dorm room late at night discussing things, because everyone knew I didn’t worry about getting up in the morning. That’s how I came to be the leader of the anti-social group. We clung to each other as a way of validating our rejection of all those social people. \n",
            "Hypothesis:  president Bach former president Rudenstine incoming president files members of the Harvard corporation and the board of overseers members of the bakaly Perrin and especially the graduates I've been waiting more than thirty years to say that down I always told you I'd come back and get my degree I want to thank Harvard for this honor I'll be changing my job next year and will be nice to finally have a college degree on my resume I applaud the grounds with or taking a much more direct route to your degrees mark my part I'm just happy that the crimson called me Harvard's most successful drop out I guess that makes me valedictorian of my own special class I did the best of everyone who fail but I also want to be recognized as the guy who got the bomber to drop out of business school I'm a bad influence that's why I was invited to speak at your graduation if I'd spoken at your orientation you were %HESITATION you might be here today Harvard was a phenomenal experience for me academic life was fascinating I used to sit in on lots of classes that I hadn't even signed up for and dorm life was terrific I lived up at Radcliffe emperor house there are always a lot of people in my dorm room late at night discussing things because everyone knew that I didn't worry about getting up in the morning that's how I came to be the leader of the anti social group we clung to each other as a way of validating our rejection of all those social people read \n",
            "WER:  0.3018181818181818\n",
            "ROUGE:  0.711864406779661\n",
            "BLEU:  0.19477419476553942\n"
          ],
          "name": "stdout"
        }
      ]
    },
    {
      "cell_type": "code",
      "metadata": {
        "colab": {
          "base_uri": "https://localhost:8080/"
        },
        "id": "-iE1jHjNeYAA",
        "outputId": "914d3513-7cf8-49bc-fd32-2681e922e9eb"
      },
      "source": [
        "STT(\"/content/drive/MyDrive/STT Sample files/audio2.mp3\",\"/content/drive/MyDrive/STT Sample files/audio2.txt\")"
      ],
      "execution_count": 13,
      "outputs": [
        {
          "output_type": "stream",
          "text": [
            "Reference;  Hi, everybody. It's Curtis and I'm here with Amy from Real English Conversations. And we're going to talk about driving in Canada and North America. And it all starts with getting your learner's licence, right Amy? Yeah, definitely. In order to be on the road behind the wheel of a vehicle, you've got to have a license. And the first thing that you do is you actually--at least in Canada, we do things in a very specific way. We have something called a graduated licensing program. I'm sure that the United States does it differently. But you pick up this book and it has all the rules of the road. Yeah, you have to study it because you have to write a written test or something like that. Yeah, it's been a long time. Right, Curtis? It's been a very long time for me, yeah. So, yeah, you have to go in. There's a test that makes sure that obviously you've studied the book, you know about the rules of making a right hand turn, for example, when you need to yield, when you need to stop. All of those sort of things. \n",
            "Hypothesis:  hi everybody its Curtis and I'm here with Amy from real English conversations and we're going to talk about driving in Canada and North America and it all starts with getting your learners license right Amy yeah definitely in order to be on the road behind the wheel of a vehicle you've got to have a license and %HESITATION the first thing that you do is actually at least in Canada we do things in a very specific way we have something called a graduated licensing program yeah %HESITATION I'm sure that the United States does it differently uhhuh but you pick up this book and it has all the rules of the road yeah and you have to study it because you have to write a written test or or something like that yeah it's been a long time record it's ten a very long time for me %HESITATION so so yeah you have to go and %HESITATION there is %HESITATION a test today and make sure that obviously you study the book you know about the rules of making a right hand turn for example when you need to yield when you need to stop all of those sort of \n",
            "WER:  0.32124352331606215\n",
            "ROUGE:  0.7563025210084033\n",
            "BLEU:  0.208028001884085\n"
          ],
          "name": "stdout"
        }
      ]
    },
    {
      "cell_type": "code",
      "metadata": {
        "colab": {
          "base_uri": "https://localhost:8080/"
        },
        "id": "X2SJZTQ-epx8",
        "outputId": "59e8e848-f023-4391-96e9-178d76b52486"
      },
      "source": [
        "STT(\"/content/drive/MyDrive/STT Sample files/audio3.mp3\",\"/content/drive/MyDrive/STT Sample files/audio3.txt\")"
      ],
      "execution_count": 14,
      "outputs": [
        {
          "output_type": "stream",
          "text": [
            "Reference;  And Abraham Lincoln also was a dreamer and you know, but he said one thing that makes most sense in trying to achieve this goal that I have dreamed for my nation. He said, “If I have six hours to cut down a tree, then I would spend the first four hours sharpening the axe.” There’s a great philosophy in that. In this era of instant gratification we just keep thinking we can achieve all these goals by just tweaking this, tweaking that, it’s not true. I really believe that a missionary zeal is required to make that quantum change, that can make 2030 of what I’m dreaming about right now. And just let’s look at India as a country, what a unique nation! Seriously. Thousands of years old of culture and tradition, many many invasions, being ruled for many years and we still somehow managed to maintain our identity. We still somehow have managed to maintain our Indian-ness — our beliefs, our faith and you know, yeah, there has been — we have our drawbacks — there is corruption, there is violence, there is differences between the different religions and sects and caste and everything.\n",
            "Hypothesis:  and %HESITATION deeper having can also %HESITATION was a dream and %HESITATION you know but he said one thing that makes more sense in trying to achieve this goal that I have dreamt for my nation he said %HESITATION five six I was to cut down the tree then I would spend the first four hours of shopping the X. it's a great philosophy in that and is it off instant gratification we just keep thinking we can achieve all these goals by just taking this stating that it's not true I really believe that %HESITATION that a missionary zeal is required to make that quantum teams that can make twenty thirty what I'm dreaming about right now and just let's look at India as a country what %HESITATION unique unique mission seriously thousands of years old of culture and traditions %HESITATION many many invasions beings work for many years and you still somehow managed to maintain our identity we still have somehow have managed to maintain our Indian is or believes of faith and you know yeah that has been %HESITATION we have our drawbacks %HESITATION this you know that there is corruption there is violence that is %HESITATION differences between the different religions and insects and costs and everything but \n",
            "WER:  0.41836734693877553\n",
            "ROUGE:  0.676923076923077\n",
            "BLEU:  0.19980562514077255\n"
          ],
          "name": "stdout"
        }
      ]
    },
    {
      "cell_type": "code",
      "metadata": {
        "colab": {
          "base_uri": "https://localhost:8080/"
        },
        "id": "OvVzPjluesTi",
        "outputId": "d0a2ec6b-7724-406a-ed4a-093707e1cb2b"
      },
      "source": [
        "STT(\"/content/drive/MyDrive/STT Sample files/audio4.mp3\",\"/content/drive/MyDrive/STT Sample files/audio4.txt\")"
      ],
      "execution_count": 15,
      "outputs": [
        {
          "output_type": "stream",
          "text": [
            "Reference;  Please call Stella.  Ask her to bring these things with her from the store:  Six spoons of fresh snow peas, five thick slabs of blue cheese, and maybe a snack for her brother Bob.  We also need a small plastic snake and a big toy frog for the kids.  She can scoop these things into three red bags, and we will go meet her Wednesday at the train station.\n",
            "Hypothesis:  please call Stella ask her to bring the team leader from the store six person so fresh snow peas five P. slash %HESITATION %HESITATION pretty teas and maybe a snack for her brother Bob we always send you to a smaller plastics net and the big toy a flow for the kids she can scoop the being into three Redbacks and every vehicle meet her Wednesday at the train station \n",
            "WER:  0.5797101449275363\n",
            "ROUGE:  0.5178571428571429\n",
            "BLEU:  0.2520066835834947\n"
          ],
          "name": "stdout"
        }
      ]
    },
    {
      "cell_type": "code",
      "metadata": {
        "colab": {
          "base_uri": "https://localhost:8080/"
        },
        "id": "tOJR274heujz",
        "outputId": "5789ec37-d1b4-41ae-fcf8-cab50ee2533b"
      },
      "source": [
        "STT(\"/content/drive/MyDrive/STT Sample files/audio5.mp3\",\"/content/drive/MyDrive/STT Sample files/audio5.txt\")"
      ],
      "execution_count": 16,
      "outputs": [
        {
          "output_type": "stream",
          "text": [
            "Reference;  Please call Stella.  Ask her to bring these things with her from the store:  Six spoons of fresh snow peas, five thick slabs of blue cheese, and maybe a snack for her brother Bob.  We also need a small plastic snake and a big toy frog for the kids.  She can scoop these things into three red bags, and we will go meet her Wednesday at the train station.\n",
            "Hypothesis:  please call Stella ask your to bring leave Phoenix who is here from the store six points for fresh snow peas five fleet flames all blue cheese and maybe a snack for her brother Bob we also need a small plastic snake and beak toy for frog for we keep she can scoop leave Phoenix in full so the read back and we will go meet your Wednesday at the train station \n",
            "WER:  0.5217391304347826\n",
            "ROUGE:  0.625\n",
            "BLEU:  0.24897977631760948\n"
          ],
          "name": "stdout"
        }
      ]
    },
    {
      "cell_type": "code",
      "metadata": {
        "colab": {
          "base_uri": "https://localhost:8080/"
        },
        "id": "ZgF0HoE_cwWc",
        "outputId": "90ace098-b13b-4946-c634-d487713dfa7b"
      },
      "source": [
        "from google.colab import drive\n",
        "drive.mount('/content/drive')"
      ],
      "execution_count": 2,
      "outputs": [
        {
          "output_type": "stream",
          "text": [
            "Mounted at /content/drive\n"
          ],
          "name": "stdout"
        }
      ]
    }
  ]
}