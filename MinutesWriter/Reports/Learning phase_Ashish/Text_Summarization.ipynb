{
  "nbformat": 4,
  "nbformat_minor": 0,
  "metadata": {
    "colab": {
      "name": "Text Summarization.ipynb",
      "provenance": [],
      "collapsed_sections": [],
      "authorship_tag": "ABX9TyPSvQKkWlmPvdxRB6FlYqtA",
      "include_colab_link": true
    },
    "kernelspec": {
      "name": "python3",
      "display_name": "Python 3"
    },
    "language_info": {
      "name": "python"
    }
  },
  "cells": [
    {
      "cell_type": "markdown",
      "metadata": {
        "id": "view-in-github",
        "colab_type": "text"
      },
      "source": [
        "<a href=\"https://colab.research.google.com/github/ashishguptap99/Unscripted_Ashish-/blob/main/Text_Summarization.ipynb\" target=\"_parent\"><img src=\"https://colab.research.google.com/assets/colab-badge.svg\" alt=\"Open In Colab\"/></a>"
      ]
    },
    {
      "cell_type": "markdown",
      "metadata": {
        "id": "zQlZC5kaH0Jd"
      },
      "source": [
        "#Extractive Text Summarization"
      ]
    },
    {
      "cell_type": "code",
      "metadata": {
        "id": "i7wWOqaQICTx"
      },
      "source": [
        "# Importing package and summarizer\n",
        "import gensim\n",
        "from gensim.summarization import summarize"
      ],
      "execution_count": null,
      "outputs": []
    },
    {
      "cell_type": "code",
      "metadata": {
        "colab": {
          "base_uri": "https://localhost:8080/"
        },
        "id": "PL-vjVcq_DTu",
        "outputId": "ff35a4c2-0eef-4501-8c41-ea2da2f86e3e"
      },
      "source": [
        "# Passing the text corpus to summarizer \n",
        "original_text = 'Junk foods taste good that’s why it is mostly liked by everyone of any age group especially kids and school going children. They generally ask for the junk food daily because they have been trend so by their parents from the childhood. They never have been discussed by their parents about the harmful effects of junk foods over health. According to the research by scientists, it has been found that junk foods have negative effects on the health in many ways. They are generally fried food found in the market in the packets. They become high in calories, high in cholesterol, low in healthy nutrients, high in sodium mineral, high in sugar, starch, unhealthy fat, lack of protein and lack of dietary fibers. Processed and junk foods are the means of rapid and unhealthy weight gain and negatively impact the whole body throughout the life. It makes able a person to gain excessive weight which is called as obesity. Junk foods tastes good and looks good however do not fulfil the healthy calorie requirement of the body. Some of the foods like french fries, fried foods, pizza, burgers, candy, soft drinks, baked goods, ice cream, cookies, etc are the example of high-sugar and high-fat containing foods. It is found according to the Centres for Disease Control and Prevention that Kids and children eating junk food are more prone to the type-2 diabetes. In type-2 diabetes our body become unable to regulate blood sugar level. Risk of getting this disease is increasing as one become more obese or overweight. It increases the risk of kidney failure. Eating junk food daily lead us to the nutritional deficiencies in the body because it is lack of essential nutrients, vitamins, iron, minerals and dietary fibers. It increases risk of cardiovascular diseases because it is rich in saturated fat, sodium and bad cholesterol. High sodium and bad cholesterol diet increases blood pressure and overloads the heart functioning. One who like junk food develop more risk to put on extra weight and become fatter and unhealthier. Junk foods contain high level carbohydrate which spike blood sugar level and make person more lethargic, sleepy and less active and alert. Reflexes and senses of the people eating this food become dull day by day thus they live more sedentary life. Junk foods are the source of constipation and other disease like diabetes, heart ailments, clogged arteries, heart attack, strokes, etc because of being poor in nutrition. Junk food is the easiest way to gain unhealthy weight. The amount of fats and sugar in the food makes you gain weight rapidly. However, this is not a healthy weight. It is more of fats and cholesterol which will have a harmful impact on your health. Junk food is also one of the main reasons for the increase in obesity nowadays.This food only looks and tastes good, other than that, it has no positive points. The amount of calorie your body requires to stay fit is not fulfilled by this food. For instance, foods like French fries, burgers, candy, and cookies, all have high amounts of sugar and fats. Therefore, this can result in long-term illnesses like diabetes and high blood pressure. This may also result in kidney failure. Above all, you can get various nutritional deficiencies when you don’t consume the essential nutrients, vitamins, minerals and more. You become prone to cardiovascular diseases due to the consumption of bad cholesterol and fat plus sodium. In other words, all this interferes with the functioning of your heart. Furthermore, junk food contains a higher level of carbohydrates. It will instantly spike your blood sugar levels. This will result in lethargy, inactiveness, and sleepiness. A person reflex becomes dull overtime and they lead an inactive life. To make things worse, junk food also clogs your arteries and increases the risk of a heart attack. Therefore, it must be avoided at the first instance to save your life from becoming ruined.The main problem with junk food is that people don’t realize its ill effects now. When the time comes, it is too late. Most importantly, the issue is that it does not impact you instantly. It works on your overtime; you will face the consequences sooner or later. Thus, it is better to stop now.You can avoid junk food by encouraging your children from an early age to eat green vegetables. Their taste buds must be developed as such that they find healthy food tasty. Moreover, try to mix things up. Do not serve the same green vegetable daily in the same style. Incorporate different types of healthy food in their diet following different recipes. This will help them to try foods at home rather than being attracted to junk food.In short, do not deprive them completely of it as that will not help. Children will find one way or the other to have it. Make sure you give them junk food in limited quantities and at healthy periods of time. '\n",
        "short_summary = summarize(original_text)\n",
        "print(short_summary)"
      ],
      "execution_count": null,
      "outputs": [
        {
          "output_type": "stream",
          "text": [
            "They become high in calories, high in cholesterol, low in healthy nutrients, high in sodium mineral, high in sugar, starch, unhealthy fat, lack of protein and lack of dietary fibers.\n",
            "Processed and junk foods are the means of rapid and unhealthy weight gain and negatively impact the whole body throughout the life.\n",
            "Junk foods tastes good and looks good however do not fulfil the healthy calorie requirement of the body.\n",
            "It is found according to the Centres for Disease Control and Prevention that Kids and children eating junk food are more prone to the type-2 diabetes.\n",
            "Eating junk food daily lead us to the nutritional deficiencies in the body because it is lack of essential nutrients, vitamins, iron, minerals and dietary fibers.\n",
            "It increases risk of cardiovascular diseases because it is rich in saturated fat, sodium and bad cholesterol.\n",
            "High sodium and bad cholesterol diet increases blood pressure and overloads the heart functioning.\n",
            "One who like junk food develop more risk to put on extra weight and become fatter and unhealthier.\n",
            "Junk foods contain high level carbohydrate which spike blood sugar level and make person more lethargic, sleepy and less active and alert.\n",
            "For instance, foods like French fries, burgers, candy, and cookies, all have high amounts of sugar and fats.\n"
          ],
          "name": "stdout"
        }
      ]
    },
    {
      "cell_type": "code",
      "metadata": {
        "colab": {
          "base_uri": "https://localhost:8080/"
        },
        "id": "ovcW-YHI6Doj",
        "outputId": "f7e2a3c9-6e0b-4441-86de-bdfa97005305"
      },
      "source": [
        "# Summarization by ratio\n",
        "summary_by_ratio=summarize(original_text,ratio=0.1)\n",
        "print(summary_by_ratio)"
      ],
      "execution_count": null,
      "outputs": [
        {
          "output_type": "stream",
          "text": [
            "They become high in calories, high in cholesterol, low in healthy nutrients, high in sodium mineral, high in sugar, starch, unhealthy fat, lack of protein and lack of dietary fibers.\n",
            "Processed and junk foods are the means of rapid and unhealthy weight gain and negatively impact the whole body throughout the life.\n",
            "Eating junk food daily lead us to the nutritional deficiencies in the body because it is lack of essential nutrients, vitamins, iron, minerals and dietary fibers.\n",
            "It increases risk of cardiovascular diseases because it is rich in saturated fat, sodium and bad cholesterol.\n",
            "High sodium and bad cholesterol diet increases blood pressure and overloads the heart functioning.\n"
          ],
          "name": "stdout"
        }
      ]
    },
    {
      "cell_type": "code",
      "metadata": {
        "colab": {
          "base_uri": "https://localhost:8080/"
        },
        "id": "SamuTrWsAE2q",
        "outputId": "7cc44bd4-562a-4894-d352-6d8da62f1b7e"
      },
      "source": [
        "# Summarization by word count\n",
        "summary_by_word_count=summarize(original_text,word_count=30)\n",
        "print(summary_by_word_count)"
      ],
      "execution_count": null,
      "outputs": [
        {
          "output_type": "stream",
          "text": [
            "They become high in calories, high in cholesterol, low in healthy nutrients, high in sodium mineral, high in sugar, starch, unhealthy fat, lack of protein and lack of dietary fibers.\n"
          ],
          "name": "stdout"
        }
      ]
    },
    {
      "cell_type": "code",
      "metadata": {
        "colab": {
          "base_uri": "https://localhost:8080/"
        },
        "id": "hS3neT_nAFgG",
        "outputId": "b10292c9-d229-4445-c04c-51e035c97be3"
      },
      "source": [
        "# Summarization when both ratio & word count is given\n",
        "summary=summarize(original_text, ratio=0.1, word_count=30)\n",
        "print(summary)"
      ],
      "execution_count": null,
      "outputs": [
        {
          "output_type": "stream",
          "text": [
            "They become high in calories, high in cholesterol, low in healthy nutrients, high in sodium mineral, high in sugar, starch, unhealthy fat, lack of protein and lack of dietary fibers.\n"
          ],
          "name": "stdout"
        }
      ]
    },
    {
      "cell_type": "markdown",
      "metadata": {
        "id": "S_GFswRdAo5W"
      },
      "source": [
        "#Abstractive Text Summarization Using GPT-2 Transformers"
      ]
    },
    {
      "cell_type": "code",
      "metadata": {
        "colab": {
          "base_uri": "https://localhost:8080/"
        },
        "id": "EZ28OdkBAxhg",
        "outputId": "62ed0054-b21c-4386-e403-acd0915e212e"
      },
      "source": [
        "# Reading the file\n",
        "f = open(\"/content/audio2.txt\", \"r\")\n",
        "text=f.read()\n",
        "print(text)\n",
        "\n",
        "# Importing model and tokenizer\n",
        "from transformers import GPT2Tokenizer,GPT2LMHeadModel\n",
        "\n",
        "# Instantiating the model and tokenizer with gpt-2\n",
        "tokenizer=GPT2Tokenizer.from_pretrained('gpt2')\n",
        "model=GPT2LMHeadModel.from_pretrained('gpt2')\n",
        "\n",
        "# Encoding text to get input ids & pass them to model.generate()\n",
        "inputs=tokenizer.batch_encode_plus([text],return_tensors='pt',max_length=50)\n",
        "summary_ids=model.generate(inputs['input_ids'],early_stopping=True)"
      ],
      "execution_count": null,
      "outputs": [
        {
          "output_type": "stream",
          "text": [
            "Hi, everybody. It's Curtis and I'm here with Amy from Real English\n",
            "Conversations. And we're going to talk about driving in Canada and North America. And\n",
            "it all starts with getting your learner's licence, right Amy?\n",
            "Yeah, definitely. In order to be on the road behind the wheel of a vehicle, you've\n",
            "got to have a license. And the first thing that you do is you actually--at least in Canada,\n",
            "we do things in a very specific way. We have something called a graduated licensing\n",
            "program. I'm sure that the United States does it differently. But you pick up this book and\n",
            "it has all the rules of the road.\n",
            "Yeah, you have to study it because you have to write a written test or something\n",
            "like that.\n",
            "Yeah, it's been a long time. Right, Curtis?\n",
            "It's been a very long time for me, yeah.\n",
            "So, yeah, you have to go in. There's a test that makes sure that obviously you've\n",
            "studied the book, you know about the rules of making a right hand turn, for example,\n",
            "when you need to yield, when you need to stop. All of those sort of things. \n"
          ],
          "name": "stdout"
        },
        {
          "output_type": "stream",
          "text": [
            "Truncation was not explicitly activated but `max_length` is provided a specific value, please use `truncation=True` to explicitly truncate examples to max length. Defaulting to 'longest_first' truncation strategy. If you encode pairs of sequences (GLUE-style) with the tokenizer you can select this strategy more precisely by providing a specific strategy to `truncation`.\n",
            "Setting `pad_token_id` to `eos_token_id`:50256 for open-end generation.\n",
            "Input length of input_ids is 50, but ``max_length`` is set to 20.This can lead to unexpected behavior. You should consider increasing ``config.max_length`` or ``max_length``.\n"
          ],
          "name": "stderr"
        }
      ]
    },
    {
      "cell_type": "code",
      "metadata": {
        "colab": {
          "base_uri": "https://localhost:8080/"
        },
        "id": "nnodcss1A-GD",
        "outputId": "d57606a7-9707-4a6e-cb1c-99ea54c34d5e"
      },
      "source": [
        "# Decoding and printing summary\n",
        "\n",
        "GPT_summary=tokenizer.decode(summary_ids[0],skip_special_tokens=True)\n",
        "print(GPT_summary)"
      ],
      "execution_count": null,
      "outputs": [
        {
          "output_type": "stream",
          "text": [
            "Hi, everybody. It's Curtis and I'm here with Amy from Real English\n",
            "Conversations. And we're going to talk about driving in Canada and North America. And\n",
            "it all starts with getting your learner's licence, right Amy?\n"
          ],
          "name": "stdout"
        }
      ]
    },
    {
      "cell_type": "markdown",
      "metadata": {
        "id": "fjDzaQ4xGBcm"
      },
      "source": [
        "# Summarization using Google’s T5 model\n"
      ]
    },
    {
      "cell_type": "code",
      "metadata": {
        "id": "h6iuy95tGZtc",
        "colab": {
          "base_uri": "https://localhost:8080/"
        },
        "outputId": "1b51ad0b-c7eb-415b-817e-05f63a60fef2"
      },
      "source": [
        "f=open(\"/content/audio3.txt\",\"r\")\n",
        "FullText=f.read()\n",
        "print(FullText)"
      ],
      "execution_count": null,
      "outputs": [
        {
          "output_type": "stream",
          "text": [
            "And Abraham Lincoln also was a dreamer and you know, but he said one thing that makes most sense in\n",
            "trying to achieve this goal that I have dreamed for my nation. He said, “If I have six hours to cut down a tree,\n",
            "then I would spend the first four hours sharpening the axe.” There’s a great philosophy in that.\n",
            "In this era of instant gratification we just keep thinking we can achieve all these goals by just tweaking this,\n",
            "tweaking that, it’s not true. I really believe that a missionary zeal is required to make that quantum change,\n",
            "that can make 2030 of what I’m dreaming about right now.\n",
            "And just let’s look at India as a country, what a unique nation! Seriously. Thousands of years old of culture\n",
            "and tradition, many many invasions, being ruled for many years and we still somehow managed to maintain\n",
            "our identity.\n",
            "We still somehow have managed to maintain our Indian-ness — our beliefs, our faith and you know, yeah,\n",
            "there has been — we have our drawbacks — there is corruption, there is violence, there is differences\n",
            "between the different religions and sects and caste and everything.\n"
          ],
          "name": "stdout"
        }
      ]
    },
    {
      "cell_type": "code",
      "metadata": {
        "id": "wJN5gv9lF9Wp",
        "colab": {
          "base_uri": "https://localhost:8080/"
        },
        "outputId": "75ba05cc-2d7f-41a6-9b37-2ddb1f5af76d"
      },
      "source": [
        "!pip install transformers\n",
        "from transformers import AutoModelForSeq2SeqLM, AutoTokenizer\n",
        "\n",
        "model = AutoModelForSeq2SeqLM.from_pretrained(\"t5-base\")\n",
        "tokenizer = AutoTokenizer.from_pretrained(\"t5-base\")\n",
        "\n",
        "# T5 uses a max_length of 512 so we cut the article to 512 tokens.\n",
        "inputs = tokenizer.encode(\"summarize: \" + FullText, return_tensors=\"pt\", max_length=512, truncation=True)\n",
        "outputs = model.generate(inputs, max_length=250, min_length=40, length_penalty=2.0, num_beams=4, early_stopping=True)"
      ],
      "execution_count": null,
      "outputs": [
        {
          "output_type": "stream",
          "text": [
            "Requirement already satisfied: transformers in /usr/local/lib/python3.7/dist-packages (4.8.2)\n",
            "Requirement already satisfied: pyyaml in /usr/local/lib/python3.7/dist-packages (from transformers) (3.13)\n",
            "Requirement already satisfied: importlib-metadata; python_version < \"3.8\" in /usr/local/lib/python3.7/dist-packages (from transformers) (4.5.0)\n",
            "Requirement already satisfied: huggingface-hub==0.0.12 in /usr/local/lib/python3.7/dist-packages (from transformers) (0.0.12)\n",
            "Requirement already satisfied: regex!=2019.12.17 in /usr/local/lib/python3.7/dist-packages (from transformers) (2019.12.20)\n",
            "Requirement already satisfied: numpy>=1.17 in /usr/local/lib/python3.7/dist-packages (from transformers) (1.19.5)\n",
            "Requirement already satisfied: sacremoses in /usr/local/lib/python3.7/dist-packages (from transformers) (0.0.45)\n",
            "Requirement already satisfied: tokenizers<0.11,>=0.10.1 in /usr/local/lib/python3.7/dist-packages (from transformers) (0.10.3)\n",
            "Requirement already satisfied: tqdm>=4.27 in /usr/local/lib/python3.7/dist-packages (from transformers) (4.41.1)\n",
            "Requirement already satisfied: packaging in /usr/local/lib/python3.7/dist-packages (from transformers) (20.9)\n",
            "Requirement already satisfied: filelock in /usr/local/lib/python3.7/dist-packages (from transformers) (3.0.12)\n",
            "Requirement already satisfied: requests in /usr/local/lib/python3.7/dist-packages (from transformers) (2.23.0)\n",
            "Requirement already satisfied: zipp>=0.5 in /usr/local/lib/python3.7/dist-packages (from importlib-metadata; python_version < \"3.8\"->transformers) (3.4.1)\n",
            "Requirement already satisfied: typing-extensions>=3.6.4; python_version < \"3.8\" in /usr/local/lib/python3.7/dist-packages (from importlib-metadata; python_version < \"3.8\"->transformers) (3.7.4.3)\n",
            "Requirement already satisfied: six in /usr/local/lib/python3.7/dist-packages (from sacremoses->transformers) (1.15.0)\n",
            "Requirement already satisfied: click in /usr/local/lib/python3.7/dist-packages (from sacremoses->transformers) (7.1.2)\n",
            "Requirement already satisfied: joblib in /usr/local/lib/python3.7/dist-packages (from sacremoses->transformers) (1.0.1)\n",
            "Requirement already satisfied: pyparsing>=2.0.2 in /usr/local/lib/python3.7/dist-packages (from packaging->transformers) (2.4.7)\n",
            "Requirement already satisfied: chardet<4,>=3.0.2 in /usr/local/lib/python3.7/dist-packages (from requests->transformers) (3.0.4)\n",
            "Requirement already satisfied: urllib3!=1.25.0,!=1.25.1,<1.26,>=1.21.1 in /usr/local/lib/python3.7/dist-packages (from requests->transformers) (1.24.3)\n",
            "Requirement already satisfied: certifi>=2017.4.17 in /usr/local/lib/python3.7/dist-packages (from requests->transformers) (2021.5.30)\n",
            "Requirement already satisfied: idna<3,>=2.5 in /usr/local/lib/python3.7/dist-packages (from requests->transformers) (2.10)\n"
          ],
          "name": "stdout"
        }
      ]
    },
    {
      "cell_type": "code",
      "metadata": {
        "colab": {
          "base_uri": "https://localhost:8080/"
        },
        "id": "gPh1of0PG4Ky",
        "outputId": "2775435f-ed81-436f-e6bc-9a7428f94622"
      },
      "source": [
        "print(tokenizer.decode(outputs[0]))"
      ],
      "execution_count": null,
      "outputs": [
        {
          "output_type": "stream",
          "text": [
            "<pad> a missionary zeal is required to make 2030 of what i'm dreaming about right now. let's look at India as a country, what a unique nation!</s>\n"
          ],
          "name": "stdout"
        }
      ]
    }
  ]
}