{
  "nbformat": 4,
  "nbformat_minor": 0,
  "metadata": {
    "colab": {
      "name": "SoC - Unscripted - TTS - 2.ipynb",
      "provenance": [],
      "include_colab_link": true
    },
    "kernelspec": {
      "name": "python3",
      "display_name": "Python 3"
    },
    "language_info": {
      "name": "python"
    }
  },
  "cells": [
    {
      "cell_type": "markdown",
      "metadata": {
        "id": "view-in-github",
        "colab_type": "text"
      },
      "source": [
        "<a href=\"https://colab.research.google.com/github/Neilabh21/SoC21-Unscripted/blob/main/SoC_Unscripted_TTS_2.ipynb\" target=\"_parent\"><img src=\"https://colab.research.google.com/assets/colab-badge.svg\" alt=\"Open In Colab\"/></a>"
      ]
    },
    {
      "cell_type": "code",
      "metadata": {
        "id": "uDnaS1ira55b"
      },
      "source": [
        "# To wrap text in the output\n",
        "from IPython.display import HTML, display\n",
        "\n",
        "def set_css():\n",
        "  display(HTML('''\n",
        "  <style>\n",
        "    pre {\n",
        "        white-space: pre-wrap;\n",
        "    }\n",
        "  </style>\n",
        "  '''))\n",
        "get_ipython().events.register('pre_run_cell', set_css)"
      ],
      "execution_count": 1,
      "outputs": []
    },
    {
      "cell_type": "code",
      "metadata": {
        "colab": {
          "base_uri": "https://localhost:8080/",
          "height": 54
        },
        "id": "UDssz-6xKSCv",
        "outputId": "2a9c3683-4625-4da0-cfaa-eb929c658813"
      },
      "source": [
        "!unzip samples.zip"
      ],
      "execution_count": 2,
      "outputs": [
        {
          "output_type": "display_data",
          "data": {
            "text/html": [
              "\n",
              "  <style>\n",
              "    pre {\n",
              "        white-space: pre-wrap;\n",
              "    }\n",
              "  </style>\n",
              "  "
            ],
            "text/plain": [
              "<IPython.core.display.HTML object>"
            ]
          },
          "metadata": {
            "tags": []
          }
        },
        {
          "output_type": "stream",
          "text": [
            "Archive:  samples.zip\n",
            "replace sample audio-text/audio_data.xlsx? [y]es, [n]o, [A]ll, [N]one, [r]ename: N\n"
          ],
          "name": "stdout"
        }
      ]
    },
    {
      "cell_type": "code",
      "metadata": {
        "colab": {
          "base_uri": "https://localhost:8080/",
          "height": 254
        },
        "id": "KR2gNywtW4Qm",
        "outputId": "231e16d9-2ad8-4541-eae8-8d6198c05990"
      },
      "source": [
        "# Install SpeechRecognition and jiwer libraries\n",
        "!pip install SpeechRecognition jiwer pydub rouge\n",
        "!apt install ffmpeg"
      ],
      "execution_count": 3,
      "outputs": [
        {
          "output_type": "display_data",
          "data": {
            "text/html": [
              "\n",
              "  <style>\n",
              "    pre {\n",
              "        white-space: pre-wrap;\n",
              "    }\n",
              "  </style>\n",
              "  "
            ],
            "text/plain": [
              "<IPython.core.display.HTML object>"
            ]
          },
          "metadata": {
            "tags": []
          }
        },
        {
          "output_type": "stream",
          "text": [
            "Requirement already satisfied: SpeechRecognition in /usr/local/lib/python3.7/dist-packages (3.8.1)\n",
            "Requirement already satisfied: jiwer in /usr/local/lib/python3.7/dist-packages (2.2.0)\n",
            "Requirement already satisfied: pydub in /usr/local/lib/python3.7/dist-packages (0.25.1)\n",
            "Requirement already satisfied: rouge in /usr/local/lib/python3.7/dist-packages (1.0.0)\n",
            "Requirement already satisfied: python-Levenshtein in /usr/local/lib/python3.7/dist-packages (from jiwer) (0.12.2)\n",
            "Requirement already satisfied: numpy in /usr/local/lib/python3.7/dist-packages (from jiwer) (1.19.5)\n",
            "Requirement already satisfied: six in /usr/local/lib/python3.7/dist-packages (from rouge) (1.15.0)\n",
            "Requirement already satisfied: setuptools in /usr/local/lib/python3.7/dist-packages (from python-Levenshtein->jiwer) (57.0.0)\n",
            "Reading package lists... Done\n",
            "Building dependency tree       \n",
            "Reading state information... Done\n",
            "ffmpeg is already the newest version (7:3.4.8-0ubuntu0.2).\n",
            "0 upgraded, 0 newly installed, 0 to remove and 39 not upgraded.\n"
          ],
          "name": "stdout"
        }
      ]
    },
    {
      "cell_type": "code",
      "metadata": {
        "colab": {
          "base_uri": "https://localhost:8080/",
          "height": 17
        },
        "id": "QZHGILD4W6Z-",
        "outputId": "2babd38f-6ee5-4e34-860f-e5c53e5681b9"
      },
      "source": [
        "# Imports\n",
        "import speech_recognition as sr\n",
        "from jiwer import wer\n",
        "from os import path\n",
        "from pydub import AudioSegment\n",
        "from rouge import Rouge\n",
        "from nltk.translate.bleu_score import sentence_bleu\n",
        "from nltk.translate.bleu_score import SmoothingFunction\n",
        "# sr.__version__"
      ],
      "execution_count": 4,
      "outputs": [
        {
          "output_type": "display_data",
          "data": {
            "text/html": [
              "\n",
              "  <style>\n",
              "    pre {\n",
              "        white-space: pre-wrap;\n",
              "    }\n",
              "  </style>\n",
              "  "
            ],
            "text/plain": [
              "<IPython.core.display.HTML object>"
            ]
          },
          "metadata": {
            "tags": []
          }
        }
      ]
    },
    {
      "cell_type": "code",
      "metadata": {
        "colab": {
          "base_uri": "https://localhost:8080/",
          "height": 17
        },
        "id": "ILfUbmZBH53v",
        "outputId": "5764a04e-42af-439f-fce5-396991ddfbee"
      },
      "source": [
        "def STT(wavfile, txtfile):\n",
        "  r = sr.Recognizer()\n",
        "\n",
        "  with open(txtfile, 'r') as file:\n",
        "    ground_truth = file.read().replace('\\n', ' ')\n",
        "\n",
        "  sound = AudioSegment.from_mp3(wavfile)\n",
        "  sound.export(\"temp.wav\", format=\"wav\")\n",
        "\n",
        "  hellow = sr.AudioFile(\"temp.wav\")\n",
        "  with hellow as source:\n",
        "      audio = r.record(source)\n",
        "  try:\n",
        "      s = r.recognize_google(audio)\n",
        "      print(\"Text: \"+s+\"\\n\")\n",
        "      print(\"Truth: \"+ground_truth+\"\\n\")\n",
        "      error = wer(ground_truth, s)\n",
        "      print(\"WER: \"+str(error))\n",
        "\n",
        "      rouge = Rouge()\n",
        "      # rouge.get_scores(s, ground_truth)\n",
        "      print(\"Rouge: \"+str(rouge.get_scores(s, ground_truth)[0]['rouge-l']['r']))\n",
        "\n",
        "      smoothie = SmoothingFunction().method4\n",
        "      bleu = sentence_bleu(ground_truth, s, weights=(0.25, 0.25, 0.25, 0.25), smoothing_function=smoothie)\n",
        "      print(\"BLEU: \" + str(bleu))\n",
        "\n",
        "  except Exception as e:\n",
        "      print(\"Exception: \"+str(e))\n",
        "\n",
        "  # return rouge.get_scores(s, ground_truth)"
      ],
      "execution_count": 5,
      "outputs": [
        {
          "output_type": "display_data",
          "data": {
            "text/html": [
              "\n",
              "  <style>\n",
              "    pre {\n",
              "        white-space: pre-wrap;\n",
              "    }\n",
              "  </style>\n",
              "  "
            ],
            "text/plain": [
              "<IPython.core.display.HTML object>"
            ]
          },
          "metadata": {
            "tags": []
          }
        }
      ]
    },
    {
      "cell_type": "code",
      "metadata": {
        "id": "BbqBciDaeMB3",
        "colab": {
          "base_uri": "https://localhost:8080/",
          "height": 417
        },
        "outputId": "3d789dc2-e4b0-4f32-9ecc-378134fb1c3f"
      },
      "source": [
        "STT(\"sample audio-text/audio1.mp3\", \"sample audio-text/audio1.txt\")"
      ],
      "execution_count": 6,
      "outputs": [
        {
          "output_type": "display_data",
          "data": {
            "text/html": [
              "\n",
              "  <style>\n",
              "    pre {\n",
              "        white-space: pre-wrap;\n",
              "    }\n",
              "  </style>\n",
              "  "
            ],
            "text/plain": [
              "<IPython.core.display.HTML object>"
            ]
          },
          "metadata": {
            "tags": []
          }
        },
        {
          "output_type": "stream",
          "text": [
            "Text: president Park President Rubinstein incoming president past members of the harbour corporation in the border Beziers members of The Faculty parents and especially the graduates I've been waiting more than 30 years to say this I always told you I come back and get my degree I want think Harvard for this time I'll be changing my job next year and it will be nice to finally have a college degree on my resume I applied the graduates for taking a much more direct out to your degrees from my heart I'm just happy that the Crimson called me harvard's most successful Dropout I guess that makes me valedictorian of my own special class I did the best of everyone who fail but I also want to be recognised as the guy who got Steve Ballmer to drop out a business school I'm a bad influence that's why I was invited to speak at your graduation if I spoken at your orientation you are of you might be there today was a phenomenal experience for me life was fascinating I used to sit in on what two classes that I haven't even signed up for and dorm life was terrific I lived at Radcliffe in Korea house they're always lot of people in my dorm room late at night discussing things because everyone knew that I didn't worry about getting up in the morning that's how it came to be the leader of the anti-social group we can't see each other way of validating or rejection of all those social people\n",
            "\n",
            "Truth: President Bok, former President Rudenstine, incoming President Faust, members of the Harvard Corporation and the Board of Overseers, members of the faculty, parents, and especially, the graduates: I’ve been waiting more than 30 years to say this: “Dad, I always told you I’d come back and get my degree.” I want to thank Harvard for this timely honor. I’ll be changing my job next year … and it will be nice to finally have a college degree on my resume. I applaud the graduates today for taking a much more direct route to your degrees. For my part, I’m just happy that the Crimson has called me “Harvard’s most successful dropout.” I guess that makes me valedictorian of my own special class … I did the best of everyone who failed. But I also want to be recognized as the guy who got Steve Ballmer to drop out of business school. I’m a bad influence. That’s why I was invited to speak at your graduation. If I had spoken at your orientation, fewer of you might be here today. Harvard was just a phenomenal experience for me. Academic life was fascinating. I used to sit in on lots of classes I hadn’t even signed up for. And dorm life was terrific. I lived up at Radcliffe, in Currier House. There were always lots of people in my dorm room late at night discussing things, because everyone knew I didn’t worry about getting up in the morning. That’s how I came to be the leader of the anti-social group. We clung to each other as a way of validating our rejection of all those social people. \n",
            "\n",
            "WER: 0.3236363636363636\n",
            "Rouge: 0.6779661016949152\n",
            "BLEU: 0.20220691385483133\n"
          ],
          "name": "stdout"
        }
      ]
    },
    {
      "cell_type": "code",
      "metadata": {
        "colab": {
          "base_uri": "https://localhost:8080/",
          "height": 272
        },
        "id": "bvA1mXgCLdcF",
        "outputId": "e29d57bd-4664-4c4a-e1b8-f7be4ac0ce22"
      },
      "source": [
        "STT(\"sample audio-text/audio2.mp3\", \"sample audio-text/audio2.txt\")"
      ],
      "execution_count": 7,
      "outputs": [
        {
          "output_type": "display_data",
          "data": {
            "text/html": [
              "\n",
              "  <style>\n",
              "    pre {\n",
              "        white-space: pre-wrap;\n",
              "    }\n",
              "  </style>\n",
              "  "
            ],
            "text/plain": [
              "<IPython.core.display.HTML object>"
            ]
          },
          "metadata": {
            "tags": []
          }
        },
        {
          "output_type": "stream",
          "text": [
            "Text: hi everybody it's Curtis and I'm here with Amy from real English conversations and we're going to talk about driving in Canada and North America and it all starts with getting your learners licence right Amy definitely something and it has all the rules of the road you have to study it because you have to write a written test or something like that when you need to stop all of those\n",
            "\n",
            "Truth: Hi, everybody. It's Curtis and I'm here with Amy from Real English Conversations. And we're going to talk about driving in Canada and North America. And it all starts with getting your learner's licence, right Amy? Yeah, definitely. In order to be on the road behind the wheel of a vehicle, you've got to have a license. And the first thing that you do is you actually--at least in Canada, we do things in a very specific way. We have something called a graduated licensing program. I'm sure that the United States does it differently. But you pick up this book and it has all the rules of the road. Yeah, you have to study it because you have to write a written test or something like that. Yeah, it's been a long time. Right, Curtis? It's been a very long time for me, yeah. So, yeah, you have to go in. There's a test that makes sure that obviously you've studied the book, you know about the rules of making a right hand turn, for example, when you need to yield, when you need to stop. All of those sort of things. \n",
            "\n",
            "WER: 0.7046632124352331\n",
            "Rouge: 0.3949579831932773\n",
            "BLEU: 0.24753279355763325\n"
          ],
          "name": "stdout"
        }
      ]
    },
    {
      "cell_type": "code",
      "metadata": {
        "colab": {
          "base_uri": "https://localhost:8080/",
          "height": 326
        },
        "id": "cI1ckBfmNJFy",
        "outputId": "bfea6b61-4827-45fd-f45c-9a2e032cac08"
      },
      "source": [
        "STT(\"sample audio-text/audio3.mp3\", \"sample audio-text/audio3.txt\")"
      ],
      "execution_count": 8,
      "outputs": [
        {
          "output_type": "display_data",
          "data": {
            "text/html": [
              "\n",
              "  <style>\n",
              "    pre {\n",
              "        white-space: pre-wrap;\n",
              "    }\n",
              "  </style>\n",
              "  "
            ],
            "text/plain": [
              "<IPython.core.display.HTML object>"
            ]
          },
          "metadata": {
            "tags": []
          }
        },
        {
          "output_type": "stream",
          "text": [
            "Text: Under the Hammer Lincoln also was a dream and you know what he said one thing that makes most sense in trying to achieve this goal that I have dreamt for my nation he said if I have 6 hours to cut down a tree and I will spend the first 4 hours sharpening the axe in this instant gratification we just keep thinking we can achieve all these goals by just clicking this putting that it's not true I really believe that that missionary zeal is required to make the quantum change that can make 20/32 what I'm dreaming about right now and just let's look in the eyes and Country what unique unique nation seriously thousands of years old of culture and tradition many many invasions been ruled for many years and still somehow managed to maintain our identity we still had somehow managed to maintain are Indians or beliefs affect and there has been we haven't drawbacks you know there is corruption there is violence that is differences between the different buildings and sex and casts and everything but\n",
            "\n",
            "Truth: And Abraham Lincoln also was a dreamer and you know, but he said one thing that makes most sense in trying to achieve this goal that I have dreamed for my nation. He said, “If I have six hours to cut down a tree, then I would spend the first four hours sharpening the axe.” There’s a great philosophy in that. In this era of instant gratification we just keep thinking we can achieve all these goals by just tweaking this, tweaking that, it’s not true. I really believe that a missionary zeal is required to make that quantum change, that can make 2030 of what I’m dreaming about right now. And just let’s look at India as a country, what a unique nation! Seriously. Thousands of years old of culture and tradition, many many invasions, being ruled for many years and we still somehow managed to maintain our identity. We still somehow have managed to maintain our Indian-ness — our beliefs, our faith and you know, yeah, there has been — we have our drawbacks — there is corruption, there is violence, there is differences between the different religions and sects and caste and everything.\n",
            "\n",
            "WER: 0.40816326530612246\n",
            "Rouge: 0.6153846153846154\n",
            "BLEU: 0.20834058901392982\n"
          ],
          "name": "stdout"
        }
      ]
    },
    {
      "cell_type": "code",
      "metadata": {
        "colab": {
          "base_uri": "https://localhost:8080/",
          "height": 181
        },
        "id": "_PSg8Sn4NIxc",
        "outputId": "5f293c4a-23af-4c43-bf9c-e1d5ae1b020c"
      },
      "source": [
        "STT(\"sample audio-text/audio4.mp3\", \"sample audio-text/audio _4_5.txt\")"
      ],
      "execution_count": 9,
      "outputs": [
        {
          "output_type": "display_data",
          "data": {
            "text/html": [
              "\n",
              "  <style>\n",
              "    pre {\n",
              "        white-space: pre-wrap;\n",
              "    }\n",
              "  </style>\n",
              "  "
            ],
            "text/plain": [
              "<IPython.core.display.HTML object>"
            ]
          },
          "metadata": {
            "tags": []
          }
        },
        {
          "output_type": "stream",
          "text": [
            "Text: please call Stella to bring these things with her from the store fresh no piece of fruit teas and maybe or snake for her brothers but we also a small plastic snake and a big toy flock for the kiss she can scoop these things into three verses and we will call me for Wednesday at the train station\n",
            "\n",
            "Truth: Please call Stella.  Ask her to bring these things with her from the store:  Six spoons of fresh snow peas, five thick slabs of blue cheese, and maybe a snack for her brother Bob.  We also need a small plastic snake and a big toy frog for the kids.  She can scoop these things into three red bags, and we will go meet her Wednesday at the train station.\n",
            "\n",
            "WER: 0.43478260869565216\n",
            "Rouge: 0.5714285714285714\n",
            "BLEU: 0.25190085732410755\n"
          ],
          "name": "stdout"
        }
      ]
    },
    {
      "cell_type": "code",
      "metadata": {
        "colab": {
          "base_uri": "https://localhost:8080/",
          "height": 181
        },
        "id": "IMUDJGg0NIeD",
        "outputId": "bdb8139f-e7e1-430e-b93c-bae52d35c987"
      },
      "source": [
        "STT(\"sample audio-text/audio5.mp3\", \"sample audio-text/audio _4_5.txt\")"
      ],
      "execution_count": 10,
      "outputs": [
        {
          "output_type": "display_data",
          "data": {
            "text/html": [
              "\n",
              "  <style>\n",
              "    pre {\n",
              "        white-space: pre-wrap;\n",
              "    }\n",
              "  </style>\n",
              "  "
            ],
            "text/plain": [
              "<IPython.core.display.HTML object>"
            ]
          },
          "metadata": {
            "tags": []
          }
        },
        {
          "output_type": "stream",
          "text": [
            "Text: please call Stella ask her to bring leave things with your promise store six points of fresh snow peas 56 flips of blue cheese and maybe a snack for her brother Bob need a small plastic snake and big toys frog for the kids she can scoops these things into 3 red bags and leave you go meet here Wednesday at the train station\n",
            "\n",
            "Truth: Please call Stella.  Ask her to bring these things with her from the store:  Six spoons of fresh snow peas, five thick slabs of blue cheese, and maybe a snack for her brother Bob.  We also need a small plastic snake and a big toy frog for the kids.  She can scoop these things into three red bags, and we will go meet her Wednesday at the train station.\n",
            "\n",
            "WER: 0.42028985507246375\n",
            "Rouge: 0.6428571428571429\n",
            "BLEU: 0.25204252459779347\n"
          ],
          "name": "stdout"
        }
      ]
    }
  ]
}